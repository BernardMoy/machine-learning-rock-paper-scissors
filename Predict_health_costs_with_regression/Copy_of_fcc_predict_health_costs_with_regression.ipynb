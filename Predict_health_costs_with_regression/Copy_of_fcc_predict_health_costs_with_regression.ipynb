{
  "cells": [
    {
      "cell_type": "code",
      "execution_count": null,
      "metadata": {
        "id": "1rRo8oNqZ-Rj"
      },
      "outputs": [],
      "source": [
        "# Import libraries. You may or may not use all of these.\n",
        "!pip install -q git+https://github.com/tensorflow/docs\n",
        "import matplotlib.pyplot as plt\n",
        "import numpy as np\n",
        "import pandas as pd\n",
        "from sklearn.model_selection import train_test_split\n",
        "from sklearn.utils import shuffle\n",
        "\n",
        "try:\n",
        "  # %tensorflow_version only exists in Colab.\n",
        "  %tensorflow_version 2.x\n",
        "except Exception:\n",
        "  pass\n",
        "import tensorflow as tf\n",
        "\n",
        "from tensorflow import keras\n",
        "from tensorflow.keras import layers\n",
        "\n",
        "import tensorflow_docs as tfdocs\n",
        "import tensorflow_docs.plots\n",
        "import tensorflow_docs.modeling"
      ]
    },
    {
      "cell_type": "code",
      "execution_count": null,
      "metadata": {
        "id": "CiX2FI4gZtTt"
      },
      "outputs": [],
      "source": [
        "# Import data\n",
        "!wget https://cdn.freecodecamp.org/project-data/health-costs/insurance.csv\n",
        "dataset = pd.read_csv('insurance.csv')\n",
        "dataset.tail()"
      ]
    },
    {
      "cell_type": "code",
      "source": [
        "# Replace the datatypes of not float\n",
        "# As tf does not allow dataframes (instead numpy arrays)\n",
        "dataset[\"sex\"].replace({\"male\": 0, \"female\": 1}, inplace = True)\n",
        "dataset[\"smoker\"].replace({\"no\": 0, \"yes\": 1}, inplace = True)\n",
        "dataset[\"region\"].replace({\n",
        "    \"northwest\": 0,\n",
        "    \"northeast\": 1,\n",
        "    \"southwest\": 2,\n",
        "    \"southeast\": 3\n",
        "}, inplace = True)\n",
        "\n",
        "dataset"
      ],
      "metadata": {
        "id": "1P1363ySzjTo"
      },
      "execution_count": null,
      "outputs": []
    },
    {
      "cell_type": "code",
      "source": [
        "# Pop off the expenses column\n",
        "dataset_y = dataset.pop('expenses')\n",
        "dataset_y.head()"
      ],
      "metadata": {
        "id": "M5rok3oQqpkv"
      },
      "execution_count": null,
      "outputs": []
    },
    {
      "cell_type": "code",
      "execution_count": null,
      "metadata": {
        "id": "LcopvQh3X-kX"
      },
      "outputs": [],
      "source": [
        "# Split the dataframe into train and test\n",
        "train_dataset, test_dataset, train_labels, test_labels = train_test_split(dataset, dataset_y, test_size = 0.2, random_state=42)\n",
        "\n",
        "# Convert the pandas df to np arrays for tf to work\n",
        "train_dataset = train_dataset.to_numpy().astype(np.float32)\n",
        "test_dataset = test_dataset.to_numpy().astype(np.float32)\n",
        "train_labels = train_labels.to_numpy().astype(np.float32)\n",
        "test_labels = test_labels.to_numpy().astype(np.float32)\n",
        "\n",
        "train_labels"
      ]
    },
    {
      "cell_type": "code",
      "source": [
        "# Normalize input features first\n",
        "normalizer = tf.keras.layers.Normalization(input_shape = [6,], axis = -1)  # 6 features\n",
        "normalizer.adapt(train_dataset)\n",
        "\n",
        "# Create tf model\n",
        "model = tf.keras.Sequential([\n",
        "    normalizer,\n",
        "    tf.keras.layers.Dense(units = 32, activation = \"relu\"),\n",
        "    tf.keras.layers.Dense(units = 1)\n",
        "])\n",
        "\n",
        "model.summary()"
      ],
      "metadata": {
        "id": "ZGUpbdIqvPUr"
      },
      "execution_count": null,
      "outputs": []
    },
    {
      "cell_type": "code",
      "source": [
        "# Compile model\n",
        "model.compile(\n",
        "    # Learning rate = 0.01 is important here -- it helps the model learns faster (than defaut 0.001)\n",
        "    optimizer = tf.optimizers.Adam(learning_rate = 0.01),\n",
        "    loss = \"mae\",\n",
        "    metrics = [\"mae\", \"mse\"]\n",
        ")"
      ],
      "metadata": {
        "id": "MZztBstjweuS"
      },
      "execution_count": null,
      "outputs": []
    },
    {
      "cell_type": "code",
      "source": [
        "# Fit model\n",
        "history = model.fit(\n",
        "    x = train_dataset,\n",
        "    y = train_labels,\n",
        "    epochs = 100,\n",
        ")"
      ],
      "metadata": {
        "id": "1mScc9MZwlw4"
      },
      "execution_count": null,
      "outputs": []
    },
    {
      "cell_type": "code",
      "execution_count": null,
      "metadata": {
        "id": "Xe7RXH3N3CWU"
      },
      "outputs": [],
      "source": [
        "# RUN THIS CELL TO TEST YOUR MODEL. DO NOT MODIFY CONTENTS.\n",
        "# Test model by checking how well the model generalizes using the test set.\n",
        "loss, mae, mse = model.evaluate(test_dataset, test_labels, verbose=2)\n",
        "\n",
        "print(\"Testing set Mean Abs Error: {:5.2f} expenses\".format(mae))\n",
        "\n",
        "if mae < 3500:\n",
        "  print(\"You passed the challenge. Great job!\")\n",
        "else:\n",
        "  print(\"The Mean Abs Error must be less than 3500. Keep trying.\")\n",
        "\n",
        "# Plot predictions.\n",
        "test_predictions = model.predict(test_dataset).flatten()\n",
        "\n",
        "a = plt.axes(aspect='equal')\n",
        "plt.scatter(test_labels, test_predictions)\n",
        "plt.xlabel('True values (expenses)')\n",
        "plt.ylabel('Predictions (expenses)')\n",
        "lims = [0, 50000]\n",
        "plt.xlim(lims)\n",
        "plt.ylim(lims)\n",
        "_ = plt.plot(lims,lims)\n"
      ]
    }
  ],
  "metadata": {
    "colab": {
      "private_outputs": true,
      "provenance": [],
      "gpuType": "T4"
    },
    "kernelspec": {
      "display_name": "Python 3",
      "name": "python3"
    },
    "accelerator": "GPU"
  },
  "nbformat": 4,
  "nbformat_minor": 0
}