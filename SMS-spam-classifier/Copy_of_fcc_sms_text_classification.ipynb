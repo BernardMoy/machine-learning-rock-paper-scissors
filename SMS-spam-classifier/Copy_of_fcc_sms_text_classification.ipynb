{
  "cells": [
    {
      "cell_type": "code",
      "execution_count": null,
      "metadata": {
        "id": "8RZOuS9LWQvv"
      },
      "outputs": [],
      "source": [
        "import pandas as pd\n",
        "!pip install tensorflow-datasets\n",
        "import tensorflow_datasets as tfds\n",
        "import numpy as np\n",
        "import matplotlib.pyplot as plt\n",
        "import tensorflow as tf\n",
        "from tensorflow.keras.preprocessing.text import one_hot\n",
        "from tensorflow.keras.preprocessing.sequence import pad_sequences\n",
        "from tensorflow.keras.models import Sequential\n",
        "from tensorflow.keras.layers import Flatten, Embedding, Dense\n",
        "from tensorflow.keras.callbacks import EarlyStopping\n"
      ]
    },
    {
      "cell_type": "code",
      "execution_count": null,
      "metadata": {
        "id": "lMHwYXHXCar3"
      },
      "outputs": [],
      "source": [
        "# get data files\n",
        "!wget https://cdn.freecodecamp.org/project-data/sms/train-data.tsv\n",
        "!wget https://cdn.freecodecamp.org/project-data/sms/valid-data.tsv\n",
        "\n",
        "train_file_path = \"train-data.tsv\"\n",
        "test_file_path = \"valid-data.tsv\""
      ]
    },
    {
      "cell_type": "code",
      "execution_count": null,
      "metadata": {
        "id": "g_h508FEClxO"
      },
      "outputs": [],
      "source": [
        "# Read the train and test paths\n",
        "df_train = pd.read_csv(train_file_path, sep = '\\t', names = [\"type\", \"message\"])\n",
        "df_test = pd.read_csv(test_file_path, sep = '\\t', names = [\"type\", \"message\"])\n",
        "df_train.columns = df_train.columns.str.strip()\n",
        "\n",
        "# Shuffle the train dataset\n",
        "df_train = df_train.sample(frac = 1)\n",
        "\n",
        "df_train"
      ]
    },
    {
      "cell_type": "code",
      "execution_count": null,
      "metadata": {
        "id": "zOMKywn4zReN"
      },
      "outputs": [],
      "source": [
        "# Split the data into trainx, trainy, testx, testy\n",
        "df_train_y = df_train.pop('type')\n",
        "df_train_x = df_train\n",
        "df_test_y = df_test.pop('type')\n",
        "df_test_x = df_test\n",
        "\n",
        "# Convert ham to 0, spam to 1\n",
        "df_train_y.replace({\"ham\": 0, \"spam\": 1}, inplace = True)\n",
        "df_test_y.replace({\"ham\": 0, \"spam\": 1}, inplace = True)\n",
        "df_train_y"
      ]
    },
    {
      "cell_type": "code",
      "source": [
        "# Preprocessing function for a pandas dataframe with single column\n",
        "max_words = 1000\n",
        "\n",
        "# Create tokenizer\n",
        "tokenizer = tf.keras.preprocessing.text.Tokenizer(num_words=max_words)\n",
        "tokenizer.fit_on_texts(df_train_x[\"message\"])\n",
        "\n",
        "# For train x and test x only\n",
        "def preprocess(X):\n",
        "  # Tokenize the text\n",
        "  df_t = tokenizer.texts_to_sequences(X[\"message\"])\n",
        "  X[\"message\"] = df_t\n",
        "\n",
        "  # Pad the sequences so the array have same length every row\n",
        "  padded = pad_sequences(X[\"message\"], maxlen=500)\n",
        "  return padded"
      ],
      "metadata": {
        "id": "tFBPvZ3dEims"
      },
      "execution_count": null,
      "outputs": []
    },
    {
      "cell_type": "code",
      "source": [
        "# Tokenize the x data to convert words into numbers\n",
        "df_train_x = preprocess(df_train_x)\n",
        "df_test_x = preprocess(df_test_x)\n",
        "df_test_x"
      ],
      "metadata": {
        "id": "noW_istAT4x7"
      },
      "execution_count": null,
      "outputs": []
    },
    {
      "cell_type": "code",
      "source": [
        "# Convert dataframe to np array\n",
        "train_dataset = df_train_x\n",
        "test_dataset = df_test_x\n",
        "train_labels = df_train_y\n",
        "test_labels = df_test_y\n",
        "\n",
        "train_dataset"
      ],
      "metadata": {
        "id": "owBoOlRDaBMV"
      },
      "execution_count": null,
      "outputs": []
    },
    {
      "cell_type": "code",
      "source": [
        "# Build model\n",
        "max_len = train_dataset.shape[1]\n",
        "\n",
        "model = tf.keras.models.Sequential([\n",
        "    tf.keras.layers.Embedding(input_dim=max_words,\n",
        "                              output_dim=64,\n",
        "                              input_shape = (max_len, )),\n",
        "    tf.keras.layers.LSTM(64),  # LSTM layer for text processing\n",
        "    tf.keras.layers.Dropout(0.5),   # Prevent overfitting\n",
        "    tf.keras.layers.Dense(32, activation = \"relu\"),\n",
        "    tf.keras.layers.Dense(1, activation=\"sigmoid\")\n",
        "])\n",
        "\n",
        "# Compile model\n",
        "model.compile(\n",
        "    loss = \"binary_crossentropy\",\n",
        "    optimizer = tf.keras.optimizers.Adam(learning_rate = 0.001),\n",
        "    metrics=[\"accuracy\"]\n",
        ")\n",
        "\n",
        "\n",
        "model.summary()"
      ],
      "metadata": {
        "id": "oX3MLca5Y8wt"
      },
      "execution_count": null,
      "outputs": []
    },
    {
      "cell_type": "code",
      "source": [
        "# Fit model\n",
        "history = model.fit(\n",
        "    x = train_dataset,\n",
        "    y = train_labels,\n",
        "    epochs = 8,\n",
        "    validation_split = 0.2\n",
        ")"
      ],
      "metadata": {
        "id": "_rvnp9CYhWP0"
      },
      "execution_count": null,
      "outputs": []
    },
    {
      "cell_type": "code",
      "execution_count": null,
      "metadata": {
        "id": "J9tD9yACG6M9"
      },
      "outputs": [],
      "source": [
        "# function to predict messages based on model\n",
        "# (should return list containing prediction and label, ex. [0.008318834938108921, 'ham'])\n",
        "def predict_message(pred_text):\n",
        "  # Preprocess the text the same way (Tokenize and pad)\n",
        "  tokens = tokenizer.texts_to_sequences([pred_text])\n",
        "  padded = pad_sequences(tokens, maxlen = max_len)\n",
        "  prediction = model.predict(padded)[0][0]\n",
        "\n",
        "  ans = ([prediction, \"spam\" if prediction>=0.5 else \"ham\"])\n",
        "  print(ans)\n",
        "  return ans\n",
        "\n",
        "pred_text = \"how are you doing today?\"\n",
        "\n",
        "prediction = predict_message(pred_text)"
      ]
    },
    {
      "cell_type": "code",
      "execution_count": null,
      "metadata": {
        "id": "Dxotov85SjsC"
      },
      "outputs": [],
      "source": [
        "# Run this cell to test your function and model. Do not modify contents.\n",
        "def test_predictions():\n",
        "  test_messages = [\"how are you doing today\",\n",
        "                   \"sale today! to stop texts call 98912460324\",\n",
        "                   \"i dont want to go. can we try it a different day? available sat\",\n",
        "                   \"our new mobile video service is live. just install on your phone to start watching.\",\n",
        "                   \"you have won £1000 cash! call to claim your prize.\",\n",
        "                   \"i'll bring it tomorrow. don't forget the milk.\",\n",
        "                   \"wow, is your arm alright. that happened to me one time too\"\n",
        "                  ]\n",
        "\n",
        "  test_answers = [\"ham\", \"spam\", \"ham\", \"spam\", \"spam\", \"ham\", \"ham\"]\n",
        "  passed = True\n",
        "\n",
        "  for msg, ans in zip(test_messages, test_answers):\n",
        "    prediction = predict_message(msg)\n",
        "    if prediction[1] != ans:\n",
        "      passed = False\n",
        "\n",
        "  if passed:\n",
        "    print(\"You passed the challenge. Great job!\")\n",
        "  else:\n",
        "    print(\"You haven't passed yet. Keep trying.\")\n",
        "\n",
        "test_predictions()\n"
      ]
    }
  ],
  "metadata": {
    "colab": {
      "private_outputs": true,
      "provenance": [],
      "gpuType": "T4"
    },
    "kernelspec": {
      "display_name": "Python 3",
      "name": "python3"
    },
    "language_info": {},
    "accelerator": "GPU"
  },
  "nbformat": 4,
  "nbformat_minor": 0
}